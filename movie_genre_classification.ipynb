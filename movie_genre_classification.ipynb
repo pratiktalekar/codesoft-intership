{
 "cells": [
  {
   "cell_type": "code",
   "execution_count": 2,
   "id": "9c7d5e14-7641-4223-babf-48201cede34d",
   "metadata": {},
   "outputs": [],
   "source": [
    "import numpy as np \n",
    "import pandas as pd\n",
    "import seaborn as sns\n",
    "import matplotlib.pyplot as plt\n",
    "import nltk\n",
    "from nltk.corpus import stopwords\n",
    "from sklearn.feature_extraction.text import TfidfVectorizer\n",
    "import re\n",
    "from sklearn.linear_model import LogisticRegression\n",
    "from sklearn.naive_bayes import MultinomialNB\n",
    "from sklearn.metrics import accuracy_score, classification_report"
   ]
  },
  {
   "cell_type": "code",
   "execution_count": 8,
   "id": "a75df24c-c89f-4a64-998a-61b1bb9041e7",
   "metadata": {},
   "outputs": [],
   "source": [
    "def load_data(path):\n",
    "    # read data from .txt file and assign names to columns\n",
    "    data = pd.read_csv(path, sep=\":::\", names=[\"ID\", \"Title\", \"Genre\", \"Plot\"], engine=\"python\")\n",
    "    # We aren't gonna need ID, so drop this column\n",
    "    data.drop(columns=[\"ID\"], inplace=True)\n",
    "    return data\n",
    "df = load_data(\"Genre Classification Dataset/train_data.txt\")"
   ]
  },
  {
   "cell_type": "code",
   "execution_count": 10,
   "id": "06c6dbf3-0a3e-4eba-8059-7610a5b767b0",
   "metadata": {},
   "outputs": [
    {
     "data": {
      "text/html": [
       "<div>\n",
       "<style scoped>\n",
       "    .dataframe tbody tr th:only-of-type {\n",
       "        vertical-align: middle;\n",
       "    }\n",
       "\n",
       "    .dataframe tbody tr th {\n",
       "        vertical-align: top;\n",
       "    }\n",
       "\n",
       "    .dataframe thead th {\n",
       "        text-align: right;\n",
       "    }\n",
       "</style>\n",
       "<table border=\"1\" class=\"dataframe\">\n",
       "  <thead>\n",
       "    <tr style=\"text-align: right;\">\n",
       "      <th></th>\n",
       "      <th>Title</th>\n",
       "      <th>Genre</th>\n",
       "      <th>Plot</th>\n",
       "    </tr>\n",
       "  </thead>\n",
       "  <tbody>\n",
       "    <tr>\n",
       "      <th>0</th>\n",
       "      <td>Oscar et la dame rose (2009)</td>\n",
       "      <td>drama</td>\n",
       "      <td>Listening in to a conversation between his do...</td>\n",
       "    </tr>\n",
       "    <tr>\n",
       "      <th>1</th>\n",
       "      <td>Cupid (1997)</td>\n",
       "      <td>thriller</td>\n",
       "      <td>A brother and sister with a past incestuous r...</td>\n",
       "    </tr>\n",
       "    <tr>\n",
       "      <th>2</th>\n",
       "      <td>Young, Wild and Wonderful (1980)</td>\n",
       "      <td>adult</td>\n",
       "      <td>As the bus empties the students for their fie...</td>\n",
       "    </tr>\n",
       "    <tr>\n",
       "      <th>3</th>\n",
       "      <td>The Secret Sin (1915)</td>\n",
       "      <td>drama</td>\n",
       "      <td>To help their unemployed father make ends mee...</td>\n",
       "    </tr>\n",
       "    <tr>\n",
       "      <th>4</th>\n",
       "      <td>The Unrecovered (2007)</td>\n",
       "      <td>drama</td>\n",
       "      <td>The film's title refers not only to the un-re...</td>\n",
       "    </tr>\n",
       "  </tbody>\n",
       "</table>\n",
       "</div>"
      ],
      "text/plain": [
       "                                Title       Genre  \\\n",
       "0       Oscar et la dame rose (2009)       drama    \n",
       "1                       Cupid (1997)    thriller    \n",
       "2   Young, Wild and Wonderful (1980)       adult    \n",
       "3              The Secret Sin (1915)       drama    \n",
       "4             The Unrecovered (2007)       drama    \n",
       "\n",
       "                                                Plot  \n",
       "0   Listening in to a conversation between his do...  \n",
       "1   A brother and sister with a past incestuous r...  \n",
       "2   As the bus empties the students for their fie...  \n",
       "3   To help their unemployed father make ends mee...  \n",
       "4   The film's title refers not only to the un-re...  "
      ]
     },
     "execution_count": 10,
     "metadata": {},
     "output_type": "execute_result"
    }
   ],
   "source": [
    "df.head()"
   ]
  },
  {
   "cell_type": "code",
   "execution_count": 12,
   "id": "bd38ce4b-d069-4be5-9b45-3cf7bc80a996",
   "metadata": {},
   "outputs": [
    {
     "name": "stdout",
     "output_type": "stream",
     "text": [
      "<class 'pandas.core.frame.DataFrame'>\n",
      "RangeIndex: 54214 entries, 0 to 54213\n",
      "Data columns (total 3 columns):\n",
      " #   Column  Non-Null Count  Dtype \n",
      "---  ------  --------------  ----- \n",
      " 0   Title   54214 non-null  object\n",
      " 1   Genre   54214 non-null  object\n",
      " 2   Plot    54214 non-null  object\n",
      "dtypes: object(3)\n",
      "memory usage: 1.2+ MB\n"
     ]
    }
   ],
   "source": [
    "df.info()"
   ]
  },
  {
   "cell_type": "code",
   "execution_count": 14,
   "id": "a27e4a30-dd34-4461-862a-49ffad77295e",
   "metadata": {},
   "outputs": [
    {
     "data": {
      "text/plain": [
       "(54214, 3)"
      ]
     },
     "execution_count": 14,
     "metadata": {},
     "output_type": "execute_result"
    }
   ],
   "source": [
    "df.shape"
   ]
  },
  {
   "cell_type": "code",
   "execution_count": 16,
   "id": "8ed427d9-6acc-49ee-b617-ad6519300f73",
   "metadata": {},
   "outputs": [
    {
     "data": {
      "text/html": [
       "<div>\n",
       "<style scoped>\n",
       "    .dataframe tbody tr th:only-of-type {\n",
       "        vertical-align: middle;\n",
       "    }\n",
       "\n",
       "    .dataframe tbody tr th {\n",
       "        vertical-align: top;\n",
       "    }\n",
       "\n",
       "    .dataframe thead th {\n",
       "        text-align: right;\n",
       "    }\n",
       "</style>\n",
       "<table border=\"1\" class=\"dataframe\">\n",
       "  <thead>\n",
       "    <tr style=\"text-align: right;\">\n",
       "      <th></th>\n",
       "      <th>Title</th>\n",
       "      <th>Genre</th>\n",
       "      <th>Plot</th>\n",
       "    </tr>\n",
       "  </thead>\n",
       "  <tbody>\n",
       "    <tr>\n",
       "      <th>count</th>\n",
       "      <td>54214</td>\n",
       "      <td>54214</td>\n",
       "      <td>54214</td>\n",
       "    </tr>\n",
       "    <tr>\n",
       "      <th>unique</th>\n",
       "      <td>54214</td>\n",
       "      <td>27</td>\n",
       "      <td>54086</td>\n",
       "    </tr>\n",
       "    <tr>\n",
       "      <th>top</th>\n",
       "      <td>Oscar et la dame rose (2009)</td>\n",
       "      <td>drama</td>\n",
       "      <td>Grammy - music award of the American academy ...</td>\n",
       "    </tr>\n",
       "    <tr>\n",
       "      <th>freq</th>\n",
       "      <td>1</td>\n",
       "      <td>13613</td>\n",
       "      <td>12</td>\n",
       "    </tr>\n",
       "  </tbody>\n",
       "</table>\n",
       "</div>"
      ],
      "text/plain": [
       "                                 Title    Genre  \\\n",
       "count                            54214    54214   \n",
       "unique                           54214       27   \n",
       "top      Oscar et la dame rose (2009)    drama    \n",
       "freq                                 1    13613   \n",
       "\n",
       "                                                     Plot  \n",
       "count                                               54214  \n",
       "unique                                              54086  \n",
       "top      Grammy - music award of the American academy ...  \n",
       "freq                                                   12  "
      ]
     },
     "execution_count": 16,
     "metadata": {},
     "output_type": "execute_result"
    }
   ],
   "source": [
    "df.describe()"
   ]
  },
  {
   "cell_type": "code",
   "execution_count": 18,
   "id": "7755747a-adbb-406d-9077-082e510b65f3",
   "metadata": {},
   "outputs": [
    {
     "data": {
      "text/plain": [
       "Title    0\n",
       "Genre    0\n",
       "Plot     0\n",
       "dtype: int64"
      ]
     },
     "execution_count": 18,
     "metadata": {},
     "output_type": "execute_result"
    }
   ],
   "source": [
    "df.isnull().sum()"
   ]
  },
  {
   "cell_type": "code",
   "execution_count": 20,
   "id": "853b2b43-33a9-4d35-9df6-d1866fef91a1",
   "metadata": {},
   "outputs": [
    {
     "data": {
      "image/png": "[encoded data removed]",
      "text/plain": [
       "<Figure size 3000x1500 with 1 Axes>"
      ]
     },
     "metadata": {},
     "output_type": "display_data"
    }
   ],
   "source": [
    "genres = df['Genre'].value_counts() \n",
    "plt.figure(figsize=(30,15))\n",
    "sns.barplot(x=genres.index, y=genres, palette=\"Set2\", hue=genres)\n",
    "plt.title(\"Genres distribution\", fontsize=30, c='r')\n",
    "plt.xlabel(\"Genres\", fontsize=24)\n",
    "plt.ylabel(\"Count\", fontsize=24)\n",
    "plt.show()"
   ]
  },
  {
   "cell_type": "code",
   "execution_count": 22,
   "id": "5b5058a3-8b95-437d-9476-207ce1ad1ce5",
   "metadata": {},
   "outputs": [],
   "source": [
    "vectorizer = TfidfVectorizer()\n",
    "vectorizer.get_stop_words()"
   ]
  },
  {
   "cell_type": "code",
   "execution_count": 24,
   "id": "baac602e-ec96-4a00-b227-797fa83e969a",
   "metadata": {},
   "outputs": [],
   "source": [
    "plot = df['Plot'][0:2] # get first plot\n",
    "type(plot)\n",
    "\n",
    "tokens = vectorizer.fit_transform(plot)"
   ]
  },
  {
   "cell_type": "code",
   "execution_count": 26,
   "id": "867f7458-3dce-4f31-858b-10b6aab007ff",
   "metadata": {},
   "outputs": [
    {
     "data": {
      "text/plain": [
       "array(['10', 'allow', 'and', 'anyone', 'approaches', 'as', 'bacon',\n",
       "       'between', 'blue', 'brother', 'charm', 'childhood', 'christmas',\n",
       "       'close', 'company', 'conversation', 'corn', 'courage', 'current',\n",
       "       'doctor', 'einstein', 'except', 'experiences', 'fantastical',\n",
       "       'few', 'friends', 'full', 'furious', 'get', 'has', 'have', 'he',\n",
       "       'her', 'him', 'his', 'hospital', 'imagination', 'in', 'incestuous',\n",
       "       'lady', 'learns', 'life', 'listening', 'live', 'love', 'meets',\n",
       "       'murderous', 'murders', 'nobody', 'of', 'old', 'on', 'only',\n",
       "       'oscar', 'parents', 'past', 'peggy', 'pink', 'pop', 'professional',\n",
       "       'refuses', 'reject', 'relationship', 'rose', 'she', 'sister',\n",
       "       'speak', 'stairs', 'straight', 'sweetheart', 'talking', 'tell',\n",
       "       'the', 'to', 'too', 'uses', 'weeks', 'what', 'who', 'wit', 'with',\n",
       "       'women', 'wrestler', 'year'], dtype=object)"
      ]
     },
     "execution_count": 26,
     "metadata": {},
     "output_type": "execute_result"
    }
   ],
   "source": [
    "vectorizer.get_feature_names_out()"
   ]
  },
  {
   "cell_type": "code",
   "execution_count": 28,
   "id": "97a4ba81-819f-4ee3-818e-cb6d985d91c9",
   "metadata": {},
   "outputs": [
    {
     "name": "stdout",
     "output_type": "stream",
     "text": [
      "{'listening': 42, 'in': 37, 'to': 73, 'conversation': 15, 'between': 7, 'his': 34, 'doctor': 19, 'and': 2, 'parents': 54, '10': 0, 'year': 83, 'old': 50, 'oscar': 53, 'learns': 40, 'what': 77, 'nobody': 48, 'has': 29, 'the': 72, 'courage': 17, 'tell': 71, 'him': 33, 'he': 31, 'only': 52, 'few': 24, 'weeks': 76, 'live': 43, 'furious': 27, 'refuses': 60, 'speak': 66, 'anyone': 3, 'except': 21, 'straight': 68, 'talking': 70, 'rose': 63, 'lady': 39, 'pink': 57, 'meets': 45, 'on': 51, 'hospital': 35, 'stairs': 67, 'as': 5, 'christmas': 12, 'approaches': 4, 'uses': 75, 'her': 32, 'fantastical': 23, 'experiences': 22, 'professional': 59, 'wrestler': 82, 'imagination': 36, 'wit': 79, 'charm': 10, 'allow': 1, 'life': 41, 'love': 44, 'full': 26, 'company': 14, 'of': 49, 'friends': 25, 'pop': 58, 'corn': 16, 'einstein': 20, 'bacon': 6, 'childhood': 11, 'sweetheart': 69, 'peggy': 56, 'blue': 8, 'brother': 9, 'sister': 65, 'with': 80, 'past': 55, 'incestuous': 38, 'relationship': 62, 'have': 30, 'current': 18, 'murderous': 46, 'murders': 47, 'women': 81, 'who': 78, 'reject': 61, 'she': 64, 'get': 28, 'too': 74, 'close': 13}\n"
     ]
    }
   ],
   "source": [
    "print(vectorizer.vocabulary_)"
   ]
  },
  {
   "cell_type": "code",
   "execution_count": 30,
   "id": "7b8b07e1-c69f-46cf-96ea-8c11ddb87af6",
   "metadata": {},
   "outputs": [
    {
     "name": "stdout",
     "output_type": "stream",
     "text": [
      "['a', 'about', 'above', 'after', 'again', 'against', 'ain', 'all', 'am', 'an', 'and', 'any', 'are', 'aren', \"aren't\", 'as', 'at', 'be', 'because', 'been', 'before', 'being', 'below', 'between', 'both', 'but', 'by', 'can', 'couldn', \"couldn't\", 'd', 'did', 'didn', \"didn't\", 'do', 'does', 'doesn', \"doesn't\", 'doing', 'don', \"don't\", 'down', 'during', 'each', 'few', 'for', 'from', 'further', 'had', 'hadn', \"hadn't\", 'has', 'hasn', \"hasn't\", 'have', 'haven', \"haven't\", 'having', 'he', \"he'd\", \"he'll\", 'her', 'here', 'hers', 'herself', \"he's\", 'him', 'himself', 'his', 'how', 'i', \"i'd\", 'if', \"i'll\", \"i'm\", 'in', 'into', 'is', 'isn', \"isn't\", 'it', \"it'd\", \"it'll\", \"it's\", 'its', 'itself', \"i've\", 'just', 'll', 'm', 'ma', 'me', 'mightn', \"mightn't\", 'more', 'most', 'mustn', \"mustn't\", 'my', 'myself', 'needn', \"needn't\", 'no', 'nor', 'not', 'now', 'o', 'of', 'off', 'on', 'once', 'only', 'or', 'other', 'our', 'ours', 'ourselves', 'out', 'over', 'own', 're', 's', 'same', 'shan', \"shan't\", 'she', \"she'd\", \"she'll\", \"she's\", 'should', 'shouldn', \"shouldn't\", \"should've\", 'so', 'some', 'such', 't', 'than', 'that', \"that'll\", 'the', 'their', 'theirs', 'them', 'themselves', 'then', 'there', 'these', 'they', \"they'd\", \"they'll\", \"they're\", \"they've\", 'this', 'those', 'through', 'to', 'too', 'under', 'until', 'up', 've', 'very', 'was', 'wasn', \"wasn't\", 'we', \"we'd\", \"we'll\", \"we're\", 'were', 'weren', \"weren't\", \"we've\", 'what', 'when', 'where', 'which', 'while', 'who', 'whom', 'why', 'will', 'with', 'won', \"won't\", 'wouldn', \"wouldn't\", 'y', 'you', \"you'd\", \"you'll\", 'your', \"you're\", 'yours', 'yourself', 'yourselves', \"you've\"]\n"
     ]
    }
   ],
   "source": [
    "stop_words = nltk.corpus.stopwords.words('english')\n",
    "print(stop_words)"
   ]
  },
  {
   "cell_type": "code",
   "execution_count": 32,
   "id": "217e03d4-d277-42cf-84ae-3b41e318e003",
   "metadata": {},
   "outputs": [],
   "source": [
    "def clean_plot(plot):\n",
    "    # first lowercase all words\n",
    "    plot = plot.lower()\n",
    "    # omit numbers, symbols, and all, except alphabets\n",
    "    plot = re.sub(r'[^a-zA-Z\\s]+', '', plot).strip()\n",
    "    # remove the stopwords\n",
    "    stop_words = set(stopwords.words('english'))  # You need to define stopwords\n",
    "    plot = [word for word in plot.split() if word.lower() not in stop_words]\n",
    "    plot = ' '.join(plot)\n",
    "    # return clean plot\n",
    "    return plot"
   ]
  },
  {
   "cell_type": "code",
   "execution_count": 34,
   "id": "f475b366-5458-49c1-ba4f-99cc491ed4c8",
   "metadata": {},
   "outputs": [
    {
     "data": {
      "text/html": [
       "<div>\n",
       "<style scoped>\n",
       "    .dataframe tbody tr th:only-of-type {\n",
       "        vertical-align: middle;\n",
       "    }\n",
       "\n",
       "    .dataframe tbody tr th {\n",
       "        vertical-align: top;\n",
       "    }\n",
       "\n",
       "    .dataframe thead th {\n",
       "        text-align: right;\n",
       "    }\n",
       "</style>\n",
       "<table border=\"1\" class=\"dataframe\">\n",
       "  <thead>\n",
       "    <tr style=\"text-align: right;\">\n",
       "      <th></th>\n",
       "      <th>Title</th>\n",
       "      <th>Genre</th>\n",
       "      <th>Plot</th>\n",
       "      <th>Clean Plot</th>\n",
       "    </tr>\n",
       "  </thead>\n",
       "  <tbody>\n",
       "    <tr>\n",
       "      <th>0</th>\n",
       "      <td>Oscar et la dame rose (2009)</td>\n",
       "      <td>drama</td>\n",
       "      <td>Listening in to a conversation between his do...</td>\n",
       "      <td>listening conversation doctor parents yearold ...</td>\n",
       "    </tr>\n",
       "    <tr>\n",
       "      <th>1</th>\n",
       "      <td>Cupid (1997)</td>\n",
       "      <td>thriller</td>\n",
       "      <td>A brother and sister with a past incestuous r...</td>\n",
       "      <td>brother sister past incestuous relationship cu...</td>\n",
       "    </tr>\n",
       "    <tr>\n",
       "      <th>2</th>\n",
       "      <td>Young, Wild and Wonderful (1980)</td>\n",
       "      <td>adult</td>\n",
       "      <td>As the bus empties the students for their fie...</td>\n",
       "      <td>bus empties students field trip museum natural...</td>\n",
       "    </tr>\n",
       "    <tr>\n",
       "      <th>3</th>\n",
       "      <td>The Secret Sin (1915)</td>\n",
       "      <td>drama</td>\n",
       "      <td>To help their unemployed father make ends mee...</td>\n",
       "      <td>help unemployed father make ends meet edith tw...</td>\n",
       "    </tr>\n",
       "    <tr>\n",
       "      <th>4</th>\n",
       "      <td>The Unrecovered (2007)</td>\n",
       "      <td>drama</td>\n",
       "      <td>The film's title refers not only to the un-re...</td>\n",
       "      <td>films title refers unrecovered bodies ground z...</td>\n",
       "    </tr>\n",
       "  </tbody>\n",
       "</table>\n",
       "</div>"
      ],
      "text/plain": [
       "                                Title       Genre  \\\n",
       "0       Oscar et la dame rose (2009)       drama    \n",
       "1                       Cupid (1997)    thriller    \n",
       "2   Young, Wild and Wonderful (1980)       adult    \n",
       "3              The Secret Sin (1915)       drama    \n",
       "4             The Unrecovered (2007)       drama    \n",
       "\n",
       "                                                Plot  \\\n",
       "0   Listening in to a conversation between his do...   \n",
       "1   A brother and sister with a past incestuous r...   \n",
       "2   As the bus empties the students for their fie...   \n",
       "3   To help their unemployed father make ends mee...   \n",
       "4   The film's title refers not only to the un-re...   \n",
       "\n",
       "                                          Clean Plot  \n",
       "0  listening conversation doctor parents yearold ...  \n",
       "1  brother sister past incestuous relationship cu...  \n",
       "2  bus empties students field trip museum natural...  \n",
       "3  help unemployed father make ends meet edith tw...  \n",
       "4  films title refers unrecovered bodies ground z...  "
      ]
     },
     "execution_count": 34,
     "metadata": {},
     "output_type": "execute_result"
    }
   ],
   "source": [
    "df['Clean Plot'] = df['Plot'].apply(clean_plot)\n",
    "df.head()"
   ]
  },
  {
   "cell_type": "code",
   "execution_count": 36,
   "id": "b45d3025-6b36-439c-a39c-c985be9946b8",
   "metadata": {},
   "outputs": [],
   "source": [
    "vectorizer = TfidfVectorizer()\n",
    "X_train = vectorizer.fit_transform(df['Clean Plot']) "
   ]
  },
  {
   "cell_type": "code",
   "execution_count": 38,
   "id": "2c40bb7b-f089-4007-9411-067851594158",
   "metadata": {},
   "outputs": [
    {
     "data": {
      "text/plain": [
       "(54214, 146144)"
      ]
     },
     "execution_count": 38,
     "metadata": {},
     "output_type": "execute_result"
    }
   ],
   "source": [
    "X_train.shape"
   ]
  },
  {
   "cell_type": "code",
   "execution_count": 40,
   "id": "6ae85697-b965-4e87-982f-1ab103723786",
   "metadata": {},
   "outputs": [
    {
     "data": {
      "text/html": [
       "<div>\n",
       "<style scoped>\n",
       "    .dataframe tbody tr th:only-of-type {\n",
       "        vertical-align: middle;\n",
       "    }\n",
       "\n",
       "    .dataframe tbody tr th {\n",
       "        vertical-align: top;\n",
       "    }\n",
       "\n",
       "    .dataframe thead th {\n",
       "        text-align: right;\n",
       "    }\n",
       "</style>\n",
       "<table border=\"1\" class=\"dataframe\">\n",
       "  <thead>\n",
       "    <tr style=\"text-align: right;\">\n",
       "      <th></th>\n",
       "      <th>Title</th>\n",
       "      <th>Genre</th>\n",
       "      <th>Plot</th>\n",
       "    </tr>\n",
       "  </thead>\n",
       "  <tbody>\n",
       "    <tr>\n",
       "      <th>0</th>\n",
       "      <td>Edgar's Lunch (1998)</td>\n",
       "      <td>thriller</td>\n",
       "      <td>L.R. Brane loves his life - his car, his apar...</td>\n",
       "    </tr>\n",
       "    <tr>\n",
       "      <th>1</th>\n",
       "      <td>La guerra de papá (1977)</td>\n",
       "      <td>comedy</td>\n",
       "      <td>Spain, March 1964: Quico is a very naughty ch...</td>\n",
       "    </tr>\n",
       "    <tr>\n",
       "      <th>2</th>\n",
       "      <td>Off the Beaten Track (2010)</td>\n",
       "      <td>documentary</td>\n",
       "      <td>One year in the life of Albin and his family ...</td>\n",
       "    </tr>\n",
       "    <tr>\n",
       "      <th>3</th>\n",
       "      <td>Meu Amigo Hindu (2015)</td>\n",
       "      <td>drama</td>\n",
       "      <td>His father has died, he hasn't spoken with hi...</td>\n",
       "    </tr>\n",
       "    <tr>\n",
       "      <th>4</th>\n",
       "      <td>Er nu zhai (1955)</td>\n",
       "      <td>drama</td>\n",
       "      <td>Before he was known internationally as a mart...</td>\n",
       "    </tr>\n",
       "  </tbody>\n",
       "</table>\n",
       "</div>"
      ],
      "text/plain": [
       "                           Title          Genre  \\\n",
       "0          Edgar's Lunch (1998)       thriller    \n",
       "1      La guerra de papá (1977)         comedy    \n",
       "2   Off the Beaten Track (2010)    documentary    \n",
       "3        Meu Amigo Hindu (2015)          drama    \n",
       "4             Er nu zhai (1955)          drama    \n",
       "\n",
       "                                                Plot  \n",
       "0   L.R. Brane loves his life - his car, his apar...  \n",
       "1   Spain, March 1964: Quico is a very naughty ch...  \n",
       "2   One year in the life of Albin and his family ...  \n",
       "3   His father has died, he hasn't spoken with hi...  \n",
       "4   Before he was known internationally as a mart...  "
      ]
     },
     "execution_count": 40,
     "metadata": {},
     "output_type": "execute_result"
    }
   ],
   "source": [
    "test_data = load_data(\"Genre Classification Dataset/test_data_solution.txt\")\n",
    "test_data.head()"
   ]
  },
  {
   "cell_type": "code",
   "execution_count": 42,
   "id": "ea765800-fa13-483e-b0ba-8d99ef112b05",
   "metadata": {},
   "outputs": [
    {
     "data": {
      "text/html": [
       "<div>\n",
       "<style scoped>\n",
       "    .dataframe tbody tr th:only-of-type {\n",
       "        vertical-align: middle;\n",
       "    }\n",
       "\n",
       "    .dataframe tbody tr th {\n",
       "        vertical-align: top;\n",
       "    }\n",
       "\n",
       "    .dataframe thead th {\n",
       "        text-align: right;\n",
       "    }\n",
       "</style>\n",
       "<table border=\"1\" class=\"dataframe\">\n",
       "  <thead>\n",
       "    <tr style=\"text-align: right;\">\n",
       "      <th></th>\n",
       "      <th>Title</th>\n",
       "      <th>Genre</th>\n",
       "      <th>Plot</th>\n",
       "      <th>Clean Plot</th>\n",
       "    </tr>\n",
       "  </thead>\n",
       "  <tbody>\n",
       "    <tr>\n",
       "      <th>0</th>\n",
       "      <td>Edgar's Lunch (1998)</td>\n",
       "      <td>thriller</td>\n",
       "      <td>L.R. Brane loves his life - his car, his apar...</td>\n",
       "      <td>lr brane loves life car apartment job especial...</td>\n",
       "    </tr>\n",
       "    <tr>\n",
       "      <th>1</th>\n",
       "      <td>La guerra de papá (1977)</td>\n",
       "      <td>comedy</td>\n",
       "      <td>Spain, March 1964: Quico is a very naughty ch...</td>\n",
       "      <td>spain march quico naughty child three belongin...</td>\n",
       "    </tr>\n",
       "    <tr>\n",
       "      <th>2</th>\n",
       "      <td>Off the Beaten Track (2010)</td>\n",
       "      <td>documentary</td>\n",
       "      <td>One year in the life of Albin and his family ...</td>\n",
       "      <td>one year life albin family shepherds north tra...</td>\n",
       "    </tr>\n",
       "    <tr>\n",
       "      <th>3</th>\n",
       "      <td>Meu Amigo Hindu (2015)</td>\n",
       "      <td>drama</td>\n",
       "      <td>His father has died, he hasn't spoken with hi...</td>\n",
       "      <td>father died hasnt spoken brother years serious...</td>\n",
       "    </tr>\n",
       "    <tr>\n",
       "      <th>4</th>\n",
       "      <td>Er nu zhai (1955)</td>\n",
       "      <td>drama</td>\n",
       "      <td>Before he was known internationally as a mart...</td>\n",
       "      <td>known internationally martial arts superstar b...</td>\n",
       "    </tr>\n",
       "  </tbody>\n",
       "</table>\n",
       "</div>"
      ],
      "text/plain": [
       "                           Title          Genre  \\\n",
       "0          Edgar's Lunch (1998)       thriller    \n",
       "1      La guerra de papá (1977)         comedy    \n",
       "2   Off the Beaten Track (2010)    documentary    \n",
       "3        Meu Amigo Hindu (2015)          drama    \n",
       "4             Er nu zhai (1955)          drama    \n",
       "\n",
       "                                                Plot  \\\n",
       "0   L.R. Brane loves his life - his car, his apar...   \n",
       "1   Spain, March 1964: Quico is a very naughty ch...   \n",
       "2   One year in the life of Albin and his family ...   \n",
       "3   His father has died, he hasn't spoken with hi...   \n",
       "4   Before he was known internationally as a mart...   \n",
       "\n",
       "                                          Clean Plot  \n",
       "0  lr brane loves life car apartment job especial...  \n",
       "1  spain march quico naughty child three belongin...  \n",
       "2  one year life albin family shepherds north tra...  \n",
       "3  father died hasnt spoken brother years serious...  \n",
       "4  known internationally martial arts superstar b...  "
      ]
     },
     "execution_count": 42,
     "metadata": {},
     "output_type": "execute_result"
    }
   ],
   "source": [
    "test_data['Clean Plot'] = test_data['Plot'].apply(clean_plot)\n",
    "test_data.head()"
   ]
  },
  {
   "cell_type": "code",
   "execution_count": 44,
   "id": "be6047bf-8241-42db-b4c0-60b08e54fd91",
   "metadata": {},
   "outputs": [
    {
     "name": "stdout",
     "output_type": "stream",
     "text": [
      "(54200, 146144)\n"
     ]
    }
   ],
   "source": [
    "X_test = vectorizer.transform(test_data['Clean Plot'])\n",
    "print(X_test.shape)"
   ]
  },
  {
   "cell_type": "code",
   "execution_count": 52,
   "id": "1a8b854c-c709-4b2d-ac66-3c14bafcffbe",
   "metadata": {},
   "outputs": [],
   "source": [
    "y_test = test_data['Genre']\n",
    "y_train = df['Genre']"
   ]
  },
  {
   "cell_type": "code",
   "execution_count": 54,
   "id": "8364c353-14f9-46e0-a311-cf515062a27f",
   "metadata": {},
   "outputs": [],
   "source": [
    "model = MultinomialNB()\n",
    "model.fit(X_train, y_train)\n",
    "y_pred = model.predict(X_test)"
   ]
  },
  {
   "cell_type": "code",
   "execution_count": 56,
   "id": "5a75c287-a3d5-4c55-bfa9-b3d63404ae1f",
   "metadata": {},
   "outputs": [
    {
     "name": "stdout",
     "output_type": "stream",
     "text": [
      "Accuracy = 44.36%\n",
      "               precision    recall  f1-score   support\n",
      "\n",
      "      action        1.00      0.00      0.00      1314\n",
      "       adult        1.00      0.00      0.00       590\n",
      "   adventure        1.00      0.00      0.00       775\n",
      "   animation        1.00      0.00      0.00       498\n",
      "   biography        1.00      0.00      0.00       264\n",
      "      comedy        0.73      0.04      0.07      7446\n",
      "       crime        1.00      0.00      0.00       505\n",
      " documentary        0.53      0.90      0.67     13096\n",
      "       drama        0.38      0.88      0.53     13612\n",
      "      family        1.00      0.00      0.00       783\n",
      "     fantasy        1.00      0.00      0.00       322\n",
      "   game-show        1.00      0.00      0.00       193\n",
      "     history        1.00      0.00      0.00       243\n",
      "      horror        1.00      0.00      0.00      2204\n",
      "       music        1.00      0.00      0.00       731\n",
      "     musical        1.00      0.00      0.00       276\n",
      "     mystery        1.00      0.00      0.00       318\n",
      "        news        1.00      0.00      0.00       181\n",
      "  reality-tv        1.00      0.00      0.00       883\n",
      "     romance        1.00      0.00      0.00       672\n",
      "      sci-fi        1.00      0.00      0.00       646\n",
      "       short        1.00      0.00      0.01      5072\n",
      "       sport        1.00      0.00      0.00       431\n",
      "   talk-show        1.00      0.00      0.00       391\n",
      "    thriller        1.00      0.00      0.00      1590\n",
      "         war        1.00      0.00      0.00       132\n",
      "     western        1.00      0.00      0.00      1032\n",
      "\n",
      "     accuracy                           0.44     54200\n",
      "    macro avg       0.95      0.07      0.05     54200\n",
      " weighted avg       0.69      0.44      0.30     54200\n",
      "\n"
     ]
    }
   ],
   "source": [
    "accuracy = accuracy_score(y_test, y_pred)\n",
    "print(f\"Accuracy = {(accuracy*100):.2f}%\")\n",
    "print(classification_report(y_test, y_pred,  zero_division=1))"
   ]
  },
  {
   "cell_type": "code",
   "execution_count": null,
   "id": "3d7e04fd-211a-4195-ae40-5edd030527b9",
   "metadata": {},
   "outputs": [],
   "source": []
  }
 ],
 "metadata": {
  "kernelspec": {
   "display_name": "Python [conda env:base] *",
   "language": "python",
   "name": "conda-base-py"
  },
  "language_info": {
   "codemirror_mode": {
    "name": "ipython",
    "version": 3
   },
   "file_extension": ".py",
   "mimetype": "text/x-python",
   "name": "python",
   "nbconvert_exporter": "python",
   "pygments_lexer": "ipython3",
   "version": "3.12.7"
  }
 },
 "nbformat": 4,
 "nbformat_minor": 5
}
